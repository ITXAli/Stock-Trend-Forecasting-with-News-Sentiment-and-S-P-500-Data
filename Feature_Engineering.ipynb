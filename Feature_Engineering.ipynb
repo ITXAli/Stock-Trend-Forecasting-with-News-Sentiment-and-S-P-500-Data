{
 "cells": [
  {
   "cell_type": "code",
   "execution_count": 1,
   "id": "497d71f0",
   "metadata": {},
   "outputs": [
    {
     "name": "stdout",
     "output_type": "stream",
     "text": [
      "                                                link  \\\n",
      "0  https://www.huffpost.com/entry/covid-boosters-...   \n",
      "1  https://www.huffpost.com/entry/american-airlin...   \n",
      "2  https://www.huffpost.com/entry/amy-cooper-lose...   \n",
      "3  https://www.huffpost.com/entry/belk-worker-fou...   \n",
      "4  https://www.huffpost.com/entry/reporter-gets-a...   \n",
      "\n",
      "                                            headline   category  \\\n",
      "0  Over 4 Million Americans Roll Up Sleeves For O...  U.S. NEWS   \n",
      "1  American Airlines Flyer Charged, Banned For Li...  U.S. NEWS   \n",
      "2  Woman Who Called Cops On Black Bird-Watcher Lo...  U.S. NEWS   \n",
      "3  Cleaner Was Dead In Belk Bathroom For 4 Days B...  U.S. NEWS   \n",
      "4  Reporter Gets Adorable Surprise From Her Boyfr...  U.S. NEWS   \n",
      "\n",
      "                                   short_description               authors  \\\n",
      "0  Health experts said it is too early to predict...  Carla K. Johnson, AP   \n",
      "1  He was subdued by passengers and crew when he ...        Mary Papenfuss   \n",
      "2  Amy Cooper accused investment firm Franklin Te...        Nina Golgowski   \n",
      "3  The 63-year-old woman was seen working at the ...                   NaN   \n",
      "4  \"Who's that behind you?\" an anchor for New Yor...         Elyse Wanshel   \n",
      "\n",
      "        date  Close_^GSPC   High_^GSPC    Low_^GSPC   Open_^GSPC  Volume_^GSPC  \n",
      "0  9/23/2022   3693.22998  3727.139893  3647.469971  3727.139893    5144270000  \n",
      "1  9/23/2022   3693.22998  3727.139893  3647.469971  3727.139893    5144270000  \n",
      "2  9/22/2022   3757.98999  3790.899902  3749.449951  3782.360107    4284600000  \n",
      "3  9/22/2022   3757.98999  3790.899902  3749.449951  3782.360107    4284600000  \n",
      "4  9/22/2022   3757.98999  3790.899902  3749.449951  3782.360107    4284600000  \n"
     ]
    }
   ],
   "source": [
    "import pandas as pd\n",
    "import numpy as np\n",
    "\n",
    "data= pd.read_csv('stock.csv')\n",
    "print(data.head())\n"
   ]
  },
  {
   "cell_type": "code",
   "execution_count": 2,
   "id": "b6159e7e",
   "metadata": {},
   "outputs": [],
   "source": [
    "data['stock_trend']=(data['Close_^GSPC'] > data['Open_^GSPC']).astype(int)"
   ]
  },
  {
   "cell_type": "code",
   "execution_count": 3,
   "id": "4c999f6b",
   "metadata": {},
   "outputs": [
    {
     "name": "stdout",
     "output_type": "stream",
     "text": [
      "stock_trend\n",
      "1    934\n",
      "0    825\n",
      "Name: count, dtype: int64\n"
     ]
    }
   ],
   "source": [
    "print(data['stock_trend'].value_counts())\n"
   ]
  },
  {
   "cell_type": "code",
   "execution_count": 4,
   "id": "efadb80b",
   "metadata": {},
   "outputs": [],
   "source": [
    "data['date'] = pd.to_datetime(data['date'])\n",
    "data['day_of_week'] = data['date'].dt.dayofweek  # 0=Monday, 6=Sunday\n",
    "data['month'] = data['date'].dt.month"
   ]
  },
  {
   "cell_type": "code",
   "execution_count": 5,
   "id": "9d957d7d",
   "metadata": {},
   "outputs": [
    {
     "name": "stdout",
     "output_type": "stream",
     "text": [
      "                                       combined_text  sentiment_score\n",
      "0  Over 4 Million Americans Roll Up Sleeves For O...          -0.1280\n",
      "1  American Airlines Flyer Charged, Banned For Li...          -0.7269\n",
      "2  Woman Who Called Cops On Black Bird-Watcher Lo...          -0.8957\n",
      "3  Cleaner Was Dead In Belk Bathroom For 4 Days B...          -0.8779\n",
      "4  Reporter Gets Adorable Surprise From Her Boyfr...           0.6486\n"
     ]
    }
   ],
   "source": [
    "from vaderSentiment.vaderSentiment import SentimentIntensityAnalyzer\n",
    "\n",
    "# Step 1: Initialize VADER\n",
    "analyzer = SentimentIntensityAnalyzer()\n",
    "\n",
    "# Step 2: Combine 'headline' and 'short_description' into one text column\n",
    "data['combined_text'] = data['headline'].fillna('') + ' ' + data['short_description'].fillna('')\n",
    "\n",
    "# Step 3: Define a function to extract compound sentiment score\n",
    "def get_vader_sentiment(text):\n",
    "    return analyzer.polarity_scores(text)['compound']  # Value between -1 (neg) to +1 (pos)\n",
    "\n",
    "# Step 4: Apply sentiment analysis\n",
    "data['sentiment_score'] = data['combined_text'].apply(get_vader_sentiment)\n",
    "\n",
    "# Optional: Preview the result\n",
    "print(data[['combined_text', 'sentiment_score']].head())"
   ]
  },
  {
   "cell_type": "code",
   "execution_count": 6,
   "id": "271b396e",
   "metadata": {},
   "outputs": [
    {
     "name": "stdout",
     "output_type": "stream",
     "text": [
      "                                                link  \\\n",
      "0  https://www.huffpost.com/entry/covid-boosters-...   \n",
      "1  https://www.huffpost.com/entry/american-airlin...   \n",
      "2  https://www.huffpost.com/entry/amy-cooper-lose...   \n",
      "3  https://www.huffpost.com/entry/belk-worker-fou...   \n",
      "4  https://www.huffpost.com/entry/reporter-gets-a...   \n",
      "\n",
      "                                            headline   category  \\\n",
      "0  Over 4 Million Americans Roll Up Sleeves For O...  U.S. NEWS   \n",
      "1  American Airlines Flyer Charged, Banned For Li...  U.S. NEWS   \n",
      "2  Woman Who Called Cops On Black Bird-Watcher Lo...  U.S. NEWS   \n",
      "3  Cleaner Was Dead In Belk Bathroom For 4 Days B...  U.S. NEWS   \n",
      "4  Reporter Gets Adorable Surprise From Her Boyfr...  U.S. NEWS   \n",
      "\n",
      "                                   short_description               authors  \\\n",
      "0  Health experts said it is too early to predict...  Carla K. Johnson, AP   \n",
      "1  He was subdued by passengers and crew when he ...        Mary Papenfuss   \n",
      "2  Amy Cooper accused investment firm Franklin Te...        Nina Golgowski   \n",
      "3  The 63-year-old woman was seen working at the ...                   NaN   \n",
      "4  \"Who's that behind you?\" an anchor for New Yor...         Elyse Wanshel   \n",
      "\n",
      "        date  Close_^GSPC   High_^GSPC    Low_^GSPC   Open_^GSPC  \\\n",
      "0 2022-09-23   3693.22998  3727.139893  3647.469971  3727.139893   \n",
      "1 2022-09-23   3693.22998  3727.139893  3647.469971  3727.139893   \n",
      "2 2022-09-22   3757.98999  3790.899902  3749.449951  3782.360107   \n",
      "3 2022-09-22   3757.98999  3790.899902  3749.449951  3782.360107   \n",
      "4 2022-09-22   3757.98999  3790.899902  3749.449951  3782.360107   \n",
      "\n",
      "   Volume_^GSPC  stock_trend  day_of_week  month  \\\n",
      "0    5144270000            0            4      9   \n",
      "1    5144270000            0            4      9   \n",
      "2    4284600000            0            3      9   \n",
      "3    4284600000            0            3      9   \n",
      "4    4284600000            0            3      9   \n",
      "\n",
      "                                       combined_text  sentiment_score  \n",
      "0  Over 4 Million Americans Roll Up Sleeves For O...          -0.1280  \n",
      "1  American Airlines Flyer Charged, Banned For Li...          -0.7269  \n",
      "2  Woman Who Called Cops On Black Bird-Watcher Lo...          -0.8957  \n",
      "3  Cleaner Was Dead In Belk Bathroom For 4 Days B...          -0.8779  \n",
      "4  Reporter Gets Adorable Surprise From Her Boyfr...           0.6486  \n"
     ]
    }
   ],
   "source": [
    "print(data.head())"
   ]
  },
  {
   "cell_type": "code",
   "execution_count": 7,
   "id": "0f4901e3",
   "metadata": {},
   "outputs": [],
   "source": [
    "data['text_length'] = data['combined_text'].apply(len)\n",
    "\n",
    "# (Optional) Text length in words\n",
    "data['word_count'] = data['combined_text'].apply(lambda x: len(x.split()))"
   ]
  },
  {
   "cell_type": "code",
   "execution_count": 8,
   "id": "364b0186",
   "metadata": {},
   "outputs": [],
   "source": [
    "from sklearn.feature_extraction.text import TfidfVectorizer\n",
    "\n",
    "# Initialize TF-IDF vectorizer (you can tune max_features or ngram_range)\n",
    "tfidf = TfidfVectorizer(max_features=5000, stop_words='english')\n",
    "\n",
    "# Fit and transform combined_text to get TF-IDF matrix\n",
    "tfidf_matrix = tfidf.fit_transform(data['combined_text'])\n",
    "\n",
    "# tfidf_matrix is a sparse matrix with TF-IDF scores for each word (feature)\n",
    "\n",
    "# Optional: Convert sparse matrix to DataFrame for easier use\n",
    "tfidf_df = pd.DataFrame(tfidf_matrix.toarray(), columns=tfidf.get_feature_names_out())\n",
    "\n",
    "# Combine TF-IDF features with your original DataFrame\n",
    "data = pd.concat([data.reset_index(drop=True), tfidf_df.reset_index(drop=True)], axis=1)\n"
   ]
  },
  {
   "cell_type": "code",
   "execution_count": 9,
   "id": "75b886d6",
   "metadata": {},
   "outputs": [],
   "source": [
    "data.to_csv(\"stock(updated).csv\", index=False)"
   ]
  }
 ],
 "metadata": {
  "kernelspec": {
   "display_name": "venv",
   "language": "python",
   "name": "python3"
  },
  "language_info": {
   "codemirror_mode": {
    "name": "ipython",
    "version": 3
   },
   "file_extension": ".py",
   "mimetype": "text/x-python",
   "name": "python",
   "nbconvert_exporter": "python",
   "pygments_lexer": "ipython3",
   "version": "3.13.3"
  }
 },
 "nbformat": 4,
 "nbformat_minor": 5
}
